{
 "cells": [
  {
   "cell_type": "markdown",
   "metadata": {
    "application/vnd.databricks.v1+cell": {
     "cellMetadata": {},
     "inputWidgets": {},
     "nuid": "b10ac119-d7f2-494c-8375-3c6994903027",
     "showTitle": false,
     "title": ""
    }
   },
   "source": [
    "\n",
    "<div style=\"text-align: center; line-height: 0; padding-top: 9px;\">\n",
    "  <img src=\"https://databricks.com/wp-content/uploads/2018/03/db-academy-rgb-1200px.png\" alt=\"Databricks Learning\" style=\"width: 600px\">\n",
    "</div>"
   ]
  },
  {
   "cell_type": "markdown",
   "metadata": {
    "application/vnd.databricks.v1+cell": {
     "cellMetadata": {},
     "inputWidgets": {},
     "nuid": "76e603ea-2f57-4626-aad9-6cbfcb57c104",
     "showTitle": false,
     "title": ""
    }
   },
   "source": [
    "\n",
    "# Low-Rank Adaption (LoRA)\n",
    "This lab introduces how to apply low-rank adaptation (LoRA) to your model of choice using [Parameter-Efficient Fine-Tuning (PEFT) library developed by Hugging Face](https://huggingface.co/docs/peft/index). \n",
    "\n",
    "\n",
    "### ![Dolly](https://files.training.databricks.com/images/llm/dolly_small.png) Learning Objectives\n",
    "1. Apply LoRA to a model\n",
    "1. Fine-tune on your provided dataset\n",
    "1. Save your model\n",
    "1. Conduct inference using the fine-tuned model"
   ]
  },
  {
   "cell_type": "code",
   "execution_count": 0,
   "metadata": {
    "application/vnd.databricks.v1+cell": {
     "cellMetadata": {},
     "inputWidgets": {},
     "nuid": "b552a2ee-9db1-4b4e-adb8-eece97d0bbae",
     "showTitle": false,
     "title": ""
    }
   },
   "outputs": [],
   "source": [
    "%pip install peft==0.4.0"
   ]
  },
  {
   "cell_type": "code",
   "execution_count": 0,
   "metadata": {
    "application/vnd.databricks.v1+cell": {
     "cellMetadata": {},
     "inputWidgets": {},
     "nuid": "c8157b37-04ef-427b-b397-f87aa68b79cb",
     "showTitle": false,
     "title": ""
    }
   },
   "outputs": [],
   "source": [
    "%run ../Includes/Classroom-Setup"
   ]
  },
  {
   "cell_type": "markdown",
   "metadata": {
    "application/vnd.databricks.v1+cell": {
     "cellMetadata": {},
     "inputWidgets": {},
     "nuid": "19e6d4ec-ee4e-4c8c-9ea0-9e01c63c5d3e",
     "showTitle": false,
     "title": ""
    }
   },
   "source": [
    "We will re-use the same dataset and model from the demo notebook. "
   ]
  },
  {
   "cell_type": "code",
   "execution_count": 0,
   "metadata": {
    "application/vnd.databricks.v1+cell": {
     "cellMetadata": {},
     "inputWidgets": {},
     "nuid": "bb87720c-36b9-4446-bb81-b5324ed13fab",
     "showTitle": false,
     "title": ""
    }
   },
   "outputs": [],
   "source": [
    "from datasets import load_dataset\n",
    "from transformers import AutoModelForCausalLM, AutoTokenizer\n",
    "\n",
    "model_name = \"bigscience/bloomz-560m\"\n",
    "tokenizer = AutoTokenizer.from_pretrained(model_name)\n",
    "foundation_model = AutoModelForCausalLM.from_pretrained(model_name)\n",
    "\n",
    "data = load_dataset(\"Abirate/english_quotes\", cache_dir=DA.paths.datasets+\"/datasets\")\n",
    "data = data.map(lambda samples: tokenizer(samples[\"quote\"]), batched=True)\n",
    "train_sample = data[\"train\"].select(range(50))\n",
    "display(train_sample) "
   ]
  },
  {
   "cell_type": "markdown",
   "metadata": {
    "application/vnd.databricks.v1+cell": {
     "cellMetadata": {},
     "inputWidgets": {},
     "nuid": "b82b3bb7-1fb3-4684-a855-20138b68186d",
     "showTitle": false,
     "title": ""
    }
   },
   "source": [
    "## Define LoRA configurations\n",
    "\n",
    "By using LoRA, you are unfreezing the attention `Weight_delta` matrix and only updating `W_a` and `W_b`. \n",
    "\n",
    "<img src=\"https://files.training.databricks.com/images/llm/lora.png\" width=300>\n",
    "\n",
    "You can treat `r` (rank) as a hyperparameter. Recall from the lecture that, LoRA can perform well with very small ranks based on [Hu et a 2021's paper](https://arxiv.org/abs/2106.09685). GPT-3's validation accuracies across tasks with ranks from 1 to 64 are quite similar. From [PyTorch Lightning's documentation](https://lightning.ai/pages/community/article/lora-llm/):\n",
    "\n",
    "> A smaller r leads to a simpler low-rank matrix, which results in fewer parameters to learn during adaptation. This can lead to faster training and potentially reduced computational requirements. However, with a smaller r, the capacity of the low-rank matrix to capture task-specific information decreases. This may result in lower adaptation quality, and the model might not perform as well on the new task compared to a higher r.\n",
    "\n",
    "Other arguments:\n",
    "- `lora_dropout`: \n",
    "  - Dropout is a regularization method that reduces overfitting by randomly and temporarily removing nodes during training. \n",
    "  - It works like this: <br>\n",
    "    * Apply to most type of layers (e.g. fully connected, convolutional, recurrent) and larger networks\n",
    "    * Temporarily and randomly remove nodes and their connections during each training cycle\n",
    "    ![](https://files.training.databricks.com/images/nn_dropout.png)\n",
    "    * See the original paper here: <a href=\"http://jmlr.org/papers/volume15/srivastava14a/srivastava14a.pdf\" target=\"_blank\">Dropout: A Simple Way to Prevent Neural Networks from Overfitting</a>\n",
    "- `target_modules`:\n",
    "  - Specifies the module names to apply to \n",
    "  - This is dependent on how the foundation model names its attention weight matrices. \n",
    "  - Typically, this can be:\n",
    "    - `query`, `q`, `q_proj` \n",
    "    - `key`, `k`, `k_proj` \n",
    "    - `value`, `v` , `v_proj` \n",
    "    - `query_key_value` \n",
    "  - The easiest way to inspect the module/layer names is to print the model, like we are doing below."
   ]
  },
  {
   "cell_type": "markdown",
   "metadata": {
    "application/vnd.databricks.v1+cell": {
     "cellMetadata": {},
     "inputWidgets": {},
     "nuid": "3b818b89-bd85-4bbb-8ae6-d360bbe39b72",
     "showTitle": false,
     "title": ""
    }
   },
   "source": [
    "### Question 1\n",
    "\n",
    "Fill in `r=1` and `target_modules`. \n",
    "\n",
    "Note:\n",
    "- For `r`, any number is valid. The smaller the r is, the fewer parameters there are to update during the fine-tuning process.\n",
    "\n",
    "Hint: \n",
    "- For `target_modules`, what's the name of the **first** module within each `BloomBlock`'s `self_attention`? \n",
    "\n",
    "Read more about [`LoraConfig` here](https://huggingface.co/docs/peft/conceptual_guides/lora#common-lora-parameters-in-peft)."
   ]
  },
  {
   "cell_type": "code",
   "execution_count": 0,
   "metadata": {
    "application/vnd.databricks.v1+cell": {
     "cellMetadata": {},
     "inputWidgets": {},
     "nuid": "4eefcf80-dc96-4178-aab7-bd70c9ba1c34",
     "showTitle": false,
     "title": ""
    }
   },
   "outputs": [],
   "source": [
    "# TODO\n",
    "import peft\n",
    "from peft import LoraConfig, get_peft_model\n",
    "\n",
    "lora_config = LoraConfig(\n",
    "    r=<FILL_IN>,\n",
    "    lora_alpha=1, # a scaling factor that adjusts the magnitude of the weight matrix. Usually set to 1\n",
    "    target_modules=[\"<FILL_IN>\"],\n",
    "    lora_dropout=0.05, \n",
    "    bias=\"none\", # this specifies if the bias parameter should be trained. \n",
    "    task_type=\"CAUSAL_LM\"\n",
    ")"
   ]
  },
  {
   "cell_type": "code",
   "execution_count": 0,
   "metadata": {
    "application/vnd.databricks.v1+cell": {
     "cellMetadata": {},
     "inputWidgets": {},
     "nuid": "940152c4-e027-4979-854e-d645618a8594",
     "showTitle": false,
     "title": ""
    }
   },
   "outputs": [],
   "source": [
    "# Test your answer. DO NOT MODIFY THIS CELL.\n",
    "\n",
    "dbTestQuestion2_1(lora_config.r, lora_config.target_modules)"
   ]
  },
  {
   "cell_type": "markdown",
   "metadata": {
    "application/vnd.databricks.v1+cell": {
     "cellMetadata": {},
     "inputWidgets": {},
     "nuid": "f44dabce-d559-4689-a87a-50ee1cf19901",
     "showTitle": false,
     "title": ""
    }
   },
   "source": [
    "###  Question 2\n",
    "\n",
    "Add the adapter layers to the foundation model to be trained"
   ]
  },
  {
   "cell_type": "code",
   "execution_count": 0,
   "metadata": {
    "application/vnd.databricks.v1+cell": {
     "cellMetadata": {},
     "inputWidgets": {},
     "nuid": "8bd497af-5c5f-4747-8c95-4815d59e6937",
     "showTitle": false,
     "title": ""
    }
   },
   "outputs": [],
   "source": [
    "# TODO\n",
    "peft_model = get_peft_model(<FILL_IN>, <FILL_IN>)\n",
    "print(peft_model.print_trainable_parameters())"
   ]
  },
  {
   "cell_type": "code",
   "execution_count": 0,
   "metadata": {
    "application/vnd.databricks.v1+cell": {
     "cellMetadata": {},
     "inputWidgets": {},
     "nuid": "1d6a990b-c349-476b-89be-fcd8b89d55ee",
     "showTitle": false,
     "title": ""
    }
   },
   "outputs": [],
   "source": [
    "# Test your answer. DO NOT MODIFY THIS CELL.\n",
    "\n",
    "dbTestQuestion2_2(peft_model)"
   ]
  },
  {
   "cell_type": "markdown",
   "metadata": {
    "application/vnd.databricks.v1+cell": {
     "cellMetadata": {},
     "inputWidgets": {},
     "nuid": "0aa020a3-d5b3-4af1-8acd-0e08ad691682",
     "showTitle": false,
     "title": ""
    }
   },
   "source": [
    "## Define `Trainer` class for fine-tuning"
   ]
  },
  {
   "cell_type": "markdown",
   "metadata": {
    "application/vnd.databricks.v1+cell": {
     "cellMetadata": {},
     "inputWidgets": {},
     "nuid": "447e9ab9-2392-4cb8-a14f-333e7d3843a4",
     "showTitle": false,
     "title": ""
    }
   },
   "source": [
    "### Question 3 \n",
    "\n",
    "Fill out the `Trainer` class. Feel free to tweak the `training_args` we provided, but remember that lowering the learning rate and increasing the number of epochs will increase training time significantly. If you change none of the defaults we set below, it could take ~15 mins to fine-tune."
   ]
  },
  {
   "cell_type": "code",
   "execution_count": 0,
   "metadata": {
    "application/vnd.databricks.v1+cell": {
     "cellMetadata": {},
     "inputWidgets": {},
     "nuid": "5941ae37-cef8-4154-8011-6a56adc9671a",
     "showTitle": false,
     "title": ""
    }
   },
   "outputs": [],
   "source": [
    "# TODO\n",
    "import transformers\n",
    "from transformers import TrainingArguments, Trainer\n",
    "import os\n",
    "\n",
    "output_directory = os.path.join(DA.paths.working_dir, \"peft_lab_outputs\")\n",
    "training_args = TrainingArguments(\n",
    "    output_dir=output_directory,\n",
    "    auto_find_batch_size=True,\n",
    "    learning_rate= 3e-2, # Higher learning rate than full fine-tuning.\n",
    "    num_train_epochs=5,\n",
    "    no_cuda=True\n",
    ")\n",
    "\n",
    "trainer = Trainer(\n",
    "    model=<FILL_IN>,\n",
    "    args=<FILL_IN>,\n",
    "    train_dataset=train_sample,\n",
    "    data_collator=transformers.DataCollatorForLanguageModeling(tokenizer, mlm=False)\n",
    ")\n",
    "trainer.train()"
   ]
  },
  {
   "cell_type": "code",
   "execution_count": 0,
   "metadata": {
    "application/vnd.databricks.v1+cell": {
     "cellMetadata": {},
     "inputWidgets": {},
     "nuid": "6c6a515c-b2e5-4b8b-8273-4c65ed2f93c4",
     "showTitle": false,
     "title": ""
    }
   },
   "outputs": [],
   "source": [
    "# Test your answer. DO NOT MODIFY THIS CELL.\n",
    "\n",
    "dbTestQuestion2_3(trainer)"
   ]
  },
  {
   "cell_type": "markdown",
   "metadata": {
    "application/vnd.databricks.v1+cell": {
     "cellMetadata": {},
     "inputWidgets": {},
     "nuid": "92a88287-8f87-4b63-8fff-13f037501c41",
     "showTitle": false,
     "title": ""
    }
   },
   "source": [
    "## Load model"
   ]
  },
  {
   "cell_type": "markdown",
   "metadata": {
    "application/vnd.databricks.v1+cell": {
     "cellMetadata": {},
     "inputWidgets": {},
     "nuid": "a0ae53ac-0bed-413e-b4d2-b01ed739ed5c",
     "showTitle": false,
     "title": ""
    }
   },
   "source": [
    "### Question 4 \n",
    "\n",
    "Load the PEFT model using pre-defined LoRA configs and foundation model. We set `is_trainable=False` to avoid further training."
   ]
  },
  {
   "cell_type": "code",
   "execution_count": 0,
   "metadata": {
    "application/vnd.databricks.v1+cell": {
     "cellMetadata": {},
     "inputWidgets": {},
     "nuid": "9c03de43-9600-4cf0-8776-04a136fe3841",
     "showTitle": false,
     "title": ""
    }
   },
   "outputs": [],
   "source": [
    "import time\n",
    "\n",
    "time_now = time.time()\n",
    "\n",
    "username = spark.sql(\"SELECT CURRENT_USER\").first()[0]\n",
    "peft_model_path = os.path.join(output_directory, f\"peft_model_{time_now}\")\n",
    "\n",
    "trainer.model.save_pretrained(peft_model_path)"
   ]
  },
  {
   "cell_type": "code",
   "execution_count": 0,
   "metadata": {
    "application/vnd.databricks.v1+cell": {
     "cellMetadata": {},
     "inputWidgets": {},
     "nuid": "58e67b60-7742-476e-a11a-8cf1afb02b4d",
     "showTitle": false,
     "title": ""
    }
   },
   "outputs": [],
   "source": [
    "# TODO\n",
    "from peft import PeftModel, PeftConfig\n",
    "\n",
    "loaded_model = PeftModel.from_pretrained(<FILL_IN>, \n",
    "                                        <FILL_IN>, \n",
    "                                        is_trainable=False)"
   ]
  },
  {
   "cell_type": "code",
   "execution_count": 0,
   "metadata": {
    "application/vnd.databricks.v1+cell": {
     "cellMetadata": {},
     "inputWidgets": {},
     "nuid": "c6be331d-5a16-4769-beec-56ce50ac4685",
     "showTitle": false,
     "title": ""
    }
   },
   "outputs": [],
   "source": [
    "# Test your answer. DO NOT MODIFY THIS CELL.\n",
    "\n",
    "dbTestQuestion2_4(loaded_model)"
   ]
  },
  {
   "cell_type": "markdown",
   "metadata": {
    "application/vnd.databricks.v1+cell": {
     "cellMetadata": {},
     "inputWidgets": {},
     "nuid": "082438f6-f825-4552-8a5e-7a5503919da1",
     "showTitle": false,
     "title": ""
    }
   },
   "source": [
    "## Inference"
   ]
  },
  {
   "cell_type": "markdown",
   "metadata": {
    "application/vnd.databricks.v1+cell": {
     "cellMetadata": {},
     "inputWidgets": {},
     "nuid": "1ab255f0-161b-4066-b173-4b37772f5d8d",
     "showTitle": false,
     "title": ""
    }
   },
   "source": [
    "### Question 5\n",
    "\n",
    "Generate output tokens to the same input we provided in the demo notebook before. How do the outputs compare?"
   ]
  },
  {
   "cell_type": "code",
   "execution_count": 0,
   "metadata": {
    "application/vnd.databricks.v1+cell": {
     "cellMetadata": {},
     "inputWidgets": {},
     "nuid": "010630ef-b4ad-4c6d-8bd3-38b0a0769a2c",
     "showTitle": false,
     "title": ""
    }
   },
   "outputs": [],
   "source": [
    "# TODO\n",
    "inputs = tokenizer(\"Two things are infinite: \", return_tensors=\"pt\")\n",
    "outputs = peft_model.generate(\n",
    "    input_ids=<FILL_IN>, \n",
    "    attention_mask=<FILL_IN>, \n",
    "    max_new_tokens=<FILL_IN>, \n",
    "    eos_token_id=tokenizer.eos_token_id\n",
    "    )\n",
    "print(tokenizer.batch_decode(<FILL_IN>, skip_special_tokens=True))"
   ]
  },
  {
   "cell_type": "code",
   "execution_count": 0,
   "metadata": {
    "application/vnd.databricks.v1+cell": {
     "cellMetadata": {},
     "inputWidgets": {},
     "nuid": "b52547aa-c270-4a5a-8fbe-6a8f3789b5a3",
     "showTitle": false,
     "title": ""
    }
   },
   "outputs": [],
   "source": [
    "# Test your answer. DO NOT MODIFY THIS CELL.\n",
    "\n",
    "dbTestQuestion2_5(outputs)"
   ]
  },
  {
   "cell_type": "markdown",
   "metadata": {
    "application/vnd.databricks.v1+cell": {
     "cellMetadata": {},
     "inputWidgets": {},
     "nuid": "6dfa767d-f4e8-4a81-a1e1-6afd4d5ea8d8",
     "showTitle": false,
     "title": ""
    }
   },
   "source": [
    "&copy; 2023 Databricks, Inc. All rights reserved.<br/>\n",
    "Apache, Apache Spark, Spark and the Spark logo are trademarks of the <a href=\"https://www.apache.org/\">Apache Software Foundation</a>.<br/>\n",
    "<br/>\n",
    "<a href=\"https://databricks.com/privacy-policy\">Privacy Policy</a> | <a href=\"https://databricks.com/terms-of-use\">Terms of Use</a> | <a href=\"https://help.databricks.com/\">Support</a>"
   ]
  }
 ],
 "metadata": {
  "application/vnd.databricks.v1+notebook": {
   "dashboards": [],
   "language": "python",
   "notebookMetadata": {
    "pythonIndentUnit": 2
   },
   "notebookName": "LLM 02L - LoRA with PEFT",
   "widgets": {}
  }
 },
 "nbformat": 4,
 "nbformat_minor": 0
}
